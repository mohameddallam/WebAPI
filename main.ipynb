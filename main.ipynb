{
 "cells": [
  {
   "cell_type": "code",
   "execution_count": null,
   "id": "e8f225c0-62f9-4689-802d-4545b5505d4a",
   "metadata": {},
   "outputs": [],
   "source": [
    "import requests\n",
    "from pprint import pprint\n",
    "\n",
    "params = {\"results\": 10, \"gender\": \"male\", \"nat\": \"us\"}\n",
    "response = requests.get(\"https://randomuser.me/api/\", params=params)\n",
    "\n",
    "print(\"Status code:\", response.status_code)\n",
    "data = response.json()\n",
    "pprint(data)\n",
    "\n",
    "# Print all first names\n",
    "for person in data[\"results\"]:\n",
    "    print(person[\"name\"][\"first\"])\n"
   ]
  }
 ],
 "metadata": {
  "kernelspec": {
   "display_name": "Python (MongoDB)",
   "language": "python",
   "name": "mongodb-env"
  },
  "language_info": {
   "codemirror_mode": {
    "name": "ipython",
    "version": 3
   },
   "file_extension": ".py",
   "mimetype": "text/x-python",
   "name": "python",
   "nbconvert_exporter": "python",
   "pygments_lexer": "ipython3",
   "version": "3.13.3"
  }
 },
 "nbformat": 4,
 "nbformat_minor": 5
}
